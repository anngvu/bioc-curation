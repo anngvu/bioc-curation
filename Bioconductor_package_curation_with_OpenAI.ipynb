{
  "nbformat": 4,
  "nbformat_minor": 0,
  "metadata": {
    "colab": {
      "provenance": [],
      "authorship_tag": "ABX9TyO0uBdrVELcEJQIERrOmG2p",
      "include_colab_link": true
    },
    "kernelspec": {
      "name": "python3",
      "display_name": "Python 3"
    },
    "language_info": {
      "name": "python"
    }
  },
  "cells": [
    {
      "cell_type": "markdown",
      "metadata": {
        "id": "view-in-github",
        "colab_type": "text"
      },
      "source": [
        "<a href=\"https://colab.research.google.com/github/anngvu/bioc-curation/blob/main/Bioconductor_package_curation_with_OpenAI.ipynb\" target=\"_parent\"><img src=\"https://colab.research.google.com/assets/colab-badge.svg\" alt=\"Open In Colab\"/></a>"
      ]
    },
    {
      "cell_type": "code",
      "execution_count": 15,
      "metadata": {
        "colab": {
          "base_uri": "https://localhost:8080/"
        },
        "id": "92IKrFuFgIQV",
        "outputId": "1124d49a-52c8-48fa-9b80-d2db193c3a43"
      },
      "outputs": [
        {
          "output_type": "stream",
          "name": "stdout",
          "text": [
            "Requirement already satisfied: openai in /usr/local/lib/python3.10/dist-packages (1.52.2)\n",
            "Requirement already satisfied: anyio<5,>=3.5.0 in /usr/local/lib/python3.10/dist-packages (from openai) (3.7.1)\n",
            "Requirement already satisfied: distro<2,>=1.7.0 in /usr/lib/python3/dist-packages (from openai) (1.7.0)\n",
            "Requirement already satisfied: httpx<1,>=0.23.0 in /usr/local/lib/python3.10/dist-packages (from openai) (0.27.2)\n",
            "Requirement already satisfied: jiter<1,>=0.4.0 in /usr/local/lib/python3.10/dist-packages (from openai) (0.6.1)\n",
            "Requirement already satisfied: pydantic<3,>=1.9.0 in /usr/local/lib/python3.10/dist-packages (from openai) (2.9.2)\n",
            "Requirement already satisfied: sniffio in /usr/local/lib/python3.10/dist-packages (from openai) (1.3.1)\n",
            "Requirement already satisfied: tqdm>4 in /usr/local/lib/python3.10/dist-packages (from openai) (4.66.5)\n",
            "Requirement already satisfied: typing-extensions<5,>=4.11 in /usr/local/lib/python3.10/dist-packages (from openai) (4.12.2)\n",
            "Requirement already satisfied: idna>=2.8 in /usr/local/lib/python3.10/dist-packages (from anyio<5,>=3.5.0->openai) (3.10)\n",
            "Requirement already satisfied: exceptiongroup in /usr/local/lib/python3.10/dist-packages (from anyio<5,>=3.5.0->openai) (1.2.2)\n",
            "Requirement already satisfied: certifi in /usr/local/lib/python3.10/dist-packages (from httpx<1,>=0.23.0->openai) (2024.8.30)\n",
            "Requirement already satisfied: httpcore==1.* in /usr/local/lib/python3.10/dist-packages (from httpx<1,>=0.23.0->openai) (1.0.6)\n",
            "Requirement already satisfied: h11<0.15,>=0.13 in /usr/local/lib/python3.10/dist-packages (from httpcore==1.*->httpx<1,>=0.23.0->openai) (0.14.0)\n",
            "Requirement already satisfied: annotated-types>=0.6.0 in /usr/local/lib/python3.10/dist-packages (from pydantic<3,>=1.9.0->openai) (0.7.0)\n",
            "Requirement already satisfied: pydantic-core==2.23.4 in /usr/local/lib/python3.10/dist-packages (from pydantic<3,>=1.9.0->openai) (2.23.4)\n",
            "Requirement already satisfied: jsonschema in /usr/local/lib/python3.10/dist-packages (4.23.0)\n",
            "Requirement already satisfied: attrs>=22.2.0 in /usr/local/lib/python3.10/dist-packages (from jsonschema) (24.2.0)\n",
            "Requirement already satisfied: jsonschema-specifications>=2023.03.6 in /usr/local/lib/python3.10/dist-packages (from jsonschema) (2024.10.1)\n",
            "Requirement already satisfied: referencing>=0.28.4 in /usr/local/lib/python3.10/dist-packages (from jsonschema) (0.35.1)\n",
            "Requirement already satisfied: rpds-py>=0.7.1 in /usr/local/lib/python3.10/dist-packages (from jsonschema) (0.20.0)\n"
          ]
        }
      ],
      "source": [
        "!pip install openai\n",
        "!pip install jsonschema"
      ]
    },
    {
      "cell_type": "code",
      "source": [
        "from openai import OpenAI\n",
        "from google.colab import userdata\n",
        "\n",
        "OPENAI_API_KEY=userdata.get('OPENAI_API_KEY')\n",
        "MODEL=\"gpt-4o\"\n",
        "client = OpenAI(api_key=OPENAI_API_KEY)"
      ],
      "metadata": {
        "id": "9wj-aOMXhYH1"
      },
      "execution_count": 3,
      "outputs": []
    },
    {
      "cell_type": "code",
      "source": [
        "import requests\n",
        "\n",
        "def get_text_from_url(url):\n",
        "  try:\n",
        "    response = requests.get(url)\n",
        "    response.raise_for_status()\n",
        "    return response.text\n",
        "  except requests.exceptions.RequestException as e:\n",
        "    print(f\"Error fetching URL: {e}\")\n",
        "    return None\n",
        "\n",
        "# Retrieve text from example sources for the package chromVAR\n",
        "# Sources to curate from can be Bioconductor homepage, READMEs, vignettes, paper (if acccessible), function docs, ...\n",
        "\n",
        "# Change urls to use selected material for different packages\n",
        "source_for_base = \"https://bioconductor.org/packages/release/bioc/html/chromVAR.html\"\n",
        "base_content = get_text_from_url(source_for_base)\n",
        "\n",
        "source_for_edam = \"https://raw.githubusercontent.com/GreenleafLab/chromVAR/refs/heads/master/README.md\"\n",
        "edam_content = get_text_from_url(source_for_edam)\n"
      ],
      "metadata": {
        "id": "1aYb2zn7wY5K"
      },
      "execution_count": 27,
      "outputs": []
    },
    {
      "cell_type": "code",
      "source": [
        "from jsonschema import validate\n",
        "import json\n",
        "\n",
        "# Retrieve schemas\n",
        "\n",
        "# Base\n",
        "base_schema = get_text_from_url(\"https://raw.githubusercontent.com/anngvu/bioc-curation/refs/heads/main/base.json\")\n",
        "base_validation = json.loads(base_schema)\n",
        "\n",
        "# EDAM\n",
        "edam_schema = get_text_from_url(\"https://raw.githubusercontent.com/anngvu/bioc-curation/refs/heads/main/edammap.json\")\n",
        "edam_validation = json.loads(edam_schema)"
      ],
      "metadata": {
        "id": "NKaKkOINxZiv"
      },
      "execution_count": 31,
      "outputs": []
    },
    {
      "cell_type": "code",
      "source": [
        "# Base schema completion\n",
        "\n",
        "def schema_completion(content, schema):\n",
        "  completion=client.chat.completions.create(\n",
        "    model=MODEL,\n",
        "    messages=[\n",
        "      {\"role\": \"system\", \"content\": \"You are a helpful expert in data curation and data modeling, especially with structured JSON data. You return only valid JSON without any other explanation so that it can be inserted into a database.\"},\n",
        "      {\"role\": \"user\", \"content\": \"Given content about a bioformatics tool, represent it as a JSON object compliant with the provided schema:\" +\n",
        "       \"\\nCONTENT:\\n\\n\" + content + '\\nSCHEMA:\\n\\n' + schema}]\n",
        "  )\n",
        "  return(completion)\n",
        "\n",
        "base_completion = schema_completion(base_content, base_schema)\n",
        "base_json = base_completion.choices[0].message.content\n"
      ],
      "metadata": {
        "id": "N3ukVcazv0v8"
      },
      "execution_count": 29,
      "outputs": []
    },
    {
      "cell_type": "code",
      "source": [
        "json.loads(base_json)"
      ],
      "metadata": {
        "colab": {
          "base_uri": "https://localhost:8080/"
        },
        "id": "9d85Q_F9kRhi",
        "outputId": "b0a48e08-ba2b-48a2-a2f6-a74e30d5e6ad"
      },
      "execution_count": 26,
      "outputs": [
        {
          "output_type": "execute_result",
          "data": {
            "text/plain": [
              "{'name': 'chromVAR',\n",
              " 'description': 'chromVAR is an R package for the analysis of sparse chromatin accessibility data from single cell or bulk ATAC or DNAse-seq data. The package aims to identify motifs or other genomic annotations associated with variability in chromatin accessibility between individual cells or samples.',\n",
              " 'homepage': 'https://greenleaflab.github.io/chromVAR/',\n",
              " 'version': ['1.0.0'],\n",
              " 'otherID': [{'type': 'doi', 'value': '10.1038/nmeth.4401', 'version': '1.0'}],\n",
              " 'toolType': ['Library', 'Command-line tool'],\n",
              " 'operatingSystem': ['Linux', 'Windows', 'Mac'],\n",
              " 'language': ['R'],\n",
              " 'license': 'GPL-3.0',\n",
              " 'collectionID': 'bioinformatics',\n",
              " 'maturity': 'Mature',\n",
              " 'cost': 'Free of charge',\n",
              " 'accessibility': 'Open access',\n",
              " 'elixirPlatform': ['Tools'],\n",
              " 'elixirNode': ['EMBL'],\n",
              " 'elixirCommunity': ['Galaxy'],\n",
              " 'link': [{'url': 'https://github.com/GreenleafLab/chromVAR/issues',\n",
              "   'type': ['Issue tracker'],\n",
              "   'note': 'For installation issues and other technical queries.'}],\n",
              " 'download': [{'url': 'https://bioconductor.org/packages/release/bioc/html/chromVAR.html',\n",
              "   'type': 'Software package',\n",
              "   'note': 'Download via Bioconductor.',\n",
              "   'version': '1.0.0'}],\n",
              " 'documentation': [{'url': 'https://greenleaflab.github.io/chromVAR/',\n",
              "   'type': ['User manual'],\n",
              "   'note': 'Official documentation for usage and installation.'}],\n",
              " 'publication': [{'doi': '10.1038/nmeth.4401',\n",
              "   'type': ['Primary'],\n",
              "   'note': 'Original publication describing the chromVAR method.',\n",
              "   'version': '1.0'}],\n",
              " 'credit': {'name': 'Greenleaf Lab',\n",
              "  'email': 'greenleaflab@stanford.edu',\n",
              "  'url': 'http://greenleaf.stanford.edu',\n",
              "  'typeEntity': 'Institute',\n",
              "  'typeRole': ['Provider'],\n",
              "  'note': 'Lab responsible for developing and maintaining the chromVAR package.'}}"
            ]
          },
          "metadata": {},
          "execution_count": 26
        }
      ]
    },
    {
      "cell_type": "code",
      "source": [
        "# Validate and sending result to be corrected (default: max of 3 times), based on validation error\n",
        "\n",
        "validate(instance=json.loads(base_json), schema=base_validation)"
      ],
      "metadata": {
        "colab": {
          "base_uri": "https://localhost:8080/",
          "height": 894
        },
        "id": "zHd7wKF4jXzU",
        "outputId": "fa13cfed-4605-48cf-c356-176373dcbb0c"
      },
      "execution_count": 32,
      "outputs": [
        {
          "output_type": "error",
          "ename": "ValidationError",
          "evalue": "['Web application'] is not of type 'string', 'null'\n\nFailed validating 'type' in schema['properties']['toolType']:\n    {'type': ['string', 'null'],\n     'items': {'title': 'Tool type',\n               'description': 'A type of application software: a discrete '\n                              'software entity can have more than one '\n                              'type.',\n               'type': 'string',\n               'enum': ['Bioinformatics portal',\n                        'Command-line tool',\n                        'Database portal',\n                        'Desktop application',\n                        'Library',\n                        'Ontology',\n                        'Plug-in',\n                        'Script',\n                        'SPARQL endpoint',\n                        'Suite',\n                        'Web application',\n                        'Web API',\n                        'Web service',\n                        'Workbench',\n                        'Workflow'],\n               '$comment': 'bio.tools includes all types of bioinformatics '\n                           'tools: application software with well-defined '\n                           'data processing functions (inputs, outputs and '\n                           'operations). When registering a tool, one or '\n                           'more tool types may be assigned, reflecting '\n                           'the different facets of the software being '\n                           'described.'}}\n\nOn instance['toolType']:\n    ['Web application']",
          "traceback": [
            "\u001b[0;31m---------------------------------------------------------------------------\u001b[0m",
            "\u001b[0;31mValidationError\u001b[0m                           Traceback (most recent call last)",
            "\u001b[0;32m<ipython-input-32-8f4bc27b1379>\u001b[0m in \u001b[0;36m<cell line: 3>\u001b[0;34m()\u001b[0m\n\u001b[1;32m      1\u001b[0m \u001b[0;31m# Validate\u001b[0m\u001b[0;34m\u001b[0m\u001b[0;34m\u001b[0m\u001b[0m\n\u001b[1;32m      2\u001b[0m \u001b[0;34m\u001b[0m\u001b[0m\n\u001b[0;32m----> 3\u001b[0;31m \u001b[0mvalidate\u001b[0m\u001b[0;34m(\u001b[0m\u001b[0minstance\u001b[0m\u001b[0;34m=\u001b[0m\u001b[0mjson\u001b[0m\u001b[0;34m.\u001b[0m\u001b[0mloads\u001b[0m\u001b[0;34m(\u001b[0m\u001b[0mbase_json\u001b[0m\u001b[0;34m)\u001b[0m\u001b[0;34m,\u001b[0m \u001b[0mschema\u001b[0m\u001b[0;34m=\u001b[0m\u001b[0mbase_validation\u001b[0m\u001b[0;34m)\u001b[0m\u001b[0;34m\u001b[0m\u001b[0;34m\u001b[0m\u001b[0m\n\u001b[0m",
            "\u001b[0;32m/usr/local/lib/python3.10/dist-packages/jsonschema/validators.py\u001b[0m in \u001b[0;36mvalidate\u001b[0;34m(instance, schema, cls, *args, **kwargs)\u001b[0m\n\u001b[1;32m   1330\u001b[0m     \u001b[0merror\u001b[0m \u001b[0;34m=\u001b[0m \u001b[0mexceptions\u001b[0m\u001b[0;34m.\u001b[0m\u001b[0mbest_match\u001b[0m\u001b[0;34m(\u001b[0m\u001b[0mvalidator\u001b[0m\u001b[0;34m.\u001b[0m\u001b[0miter_errors\u001b[0m\u001b[0;34m(\u001b[0m\u001b[0minstance\u001b[0m\u001b[0;34m)\u001b[0m\u001b[0;34m)\u001b[0m\u001b[0;34m\u001b[0m\u001b[0;34m\u001b[0m\u001b[0m\n\u001b[1;32m   1331\u001b[0m     \u001b[0;32mif\u001b[0m \u001b[0merror\u001b[0m \u001b[0;32mis\u001b[0m \u001b[0;32mnot\u001b[0m \u001b[0;32mNone\u001b[0m\u001b[0;34m:\u001b[0m\u001b[0;34m\u001b[0m\u001b[0;34m\u001b[0m\u001b[0m\n\u001b[0;32m-> 1332\u001b[0;31m         \u001b[0;32mraise\u001b[0m \u001b[0merror\u001b[0m\u001b[0;34m\u001b[0m\u001b[0;34m\u001b[0m\u001b[0m\n\u001b[0m\u001b[1;32m   1333\u001b[0m \u001b[0;34m\u001b[0m\u001b[0m\n\u001b[1;32m   1334\u001b[0m \u001b[0;34m\u001b[0m\u001b[0m\n",
            "\u001b[0;31mValidationError\u001b[0m: ['Web application'] is not of type 'string', 'null'\n\nFailed validating 'type' in schema['properties']['toolType']:\n    {'type': ['string', 'null'],\n     'items': {'title': 'Tool type',\n               'description': 'A type of application software: a discrete '\n                              'software entity can have more than one '\n                              'type.',\n               'type': 'string',\n               'enum': ['Bioinformatics portal',\n                        'Command-line tool',\n                        'Database portal',\n                        'Desktop application',\n                        'Library',\n                        'Ontology',\n                        'Plug-in',\n                        'Script',\n                        'SPARQL endpoint',\n                        'Suite',\n                        'Web application',\n                        'Web API',\n                        'Web service',\n                        'Workbench',\n                        'Workflow'],\n               '$comment': 'bio.tools includes all types of bioinformatics '\n                           'tools: application software with well-defined '\n                           'data processing functions (inputs, outputs and '\n                           'operations). When registering a tool, one or '\n                           'more tool types may be assigned, reflecting '\n                           'the different facets of the software being '\n                           'described.'}}\n\nOn instance['toolType']:\n    ['Web application']"
          ]
        }
      ]
    },
    {
      "cell_type": "code",
      "source": [
        "# EDAM schema completion\n",
        "\n",
        "edam_completion = schema_completion(edam_content, edam_schema)\n",
        "edam_json = edam_completion.choices[0].message.content\n",
        "print(edam_json)"
      ],
      "metadata": {
        "colab": {
          "base_uri": "https://localhost:8080/"
        },
        "id": "Cyev7EUwwXQ2",
        "outputId": "8e9a0cad-b688-4f3f-d8fa-395cb7d14298"
      },
      "execution_count": 14,
      "outputs": [
        {
          "output_type": "stream",
          "name": "stdout",
          "text": [
            "{\n",
            "  \"name\": \"EDAM mapping\",\n",
            "  \"description\": \"Description of topics and function for a bioinformatics tool chromVAR using the EDAM vocabulary.\",\n",
            "  \"topic\": [\n",
            "    {\n",
            "      \"term\": \"Gene regulation\"\n",
            "    },\n",
            "    {\n",
            "      \"term\": \"Gene expression\"\n",
            "    },\n",
            "    {\n",
            "      \"term\": \"Functional genomics\"\n",
            "    },\n",
            "    {\n",
            "      \"term\": \"Epigenomics\"\n",
            "    },\n",
            "    {\n",
            "      \"term\": \"Transcription factors and regulatory sites\"\n",
            "    },\n",
            "    {\n",
            "      \"term\": \"DNA\"\n",
            "    }\n",
            "  ],\n",
            "  \"function\": [\n",
            "    {\n",
            "      \"operation\": [\n",
            "        {\n",
            "          \"term\": \"Gene expression profiling\"\n",
            "        },\n",
            "        {\n",
            "          \"term\": \"Gene regulatory network analysis\"\n",
            "        },\n",
            "        {\n",
            "          \"term\": \"Genome annotation\"\n",
            "        }\n",
            "      ],\n",
            "      \"input\": [\n",
            "        {\n",
            "          \"data\": {\n",
            "            \"term\": \"Nucleic acid sequence\"\n",
            "          },\n",
            "          \"format\": [\n",
            "            {\n",
            "              \"term\": \"BAM\"\n",
            "            },\n",
            "            {\n",
            "              \"term\": \"BED\"\n",
            "            }\n",
            "          ]\n",
            "        }\n",
            "      ],\n",
            "      \"output\": [\n",
            "        {\n",
            "          \"data\": {\n",
            "            \"term\": \"Gene expression profile\"\n",
            "          },\n",
            "          \"format\": [\n",
            "            {\n",
            "              \"term\": \"CSV\"\n",
            "            },\n",
            "            {\n",
            "              \"term\": \"JSON\"\n",
            "            }\n",
            "          ]\n",
            "        }\n",
            "      ]\n",
            "    },\n",
            "    {\n",
            "      \"operation\": [\n",
            "        {\n",
            "          \"term\": \"Sequence alignment\"\n",
            "        },\n",
            "        {\n",
            "          \"term\": \"Expression profile comparison\"\n",
            "        }\n",
            "      ],\n",
            "      \"input\": [\n",
            "        {\n",
            "          \"data\": {\n",
            "            \"term\": \"Sequence alignment\"\n",
            "          },\n",
            "          \"format\": [\n",
            "            {\n",
            "              \"term\": \"FASTA\"\n",
            "            },\n",
            "            {\n",
            "              \"term\": \"FASTQ\"\n",
            "            }\n",
            "          ]\n",
            "        }\n",
            "      ],\n",
            "      \"output\": [\n",
            "        {\n",
            "          \"data\": {\n",
            "            \"term\": \"Sequence alignment\"\n",
            "          },\n",
            "          \"format\": [\n",
            "            {\n",
            "              \"term\": \"JSON\"\n",
            "            }\n",
            "          ]\n",
            "        }\n",
            "      ]\n",
            "    }\n",
            "  ]\n",
            "}\n"
          ]
        }
      ]
    },
    {
      "cell_type": "code",
      "source": [],
      "metadata": {
        "id": "9a8M_PDifQJP"
      },
      "execution_count": null,
      "outputs": []
    }
  ]
}
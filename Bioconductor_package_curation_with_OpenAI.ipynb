{
 "cells": [
  {
   "cell_type": "markdown",
   "metadata": {
    "colab_type": "text",
    "id": "view-in-github"
   },
   "source": [
    "<a href=\"https://colab.research.google.com/github/anngvu/bioc-curation/blob/main/Bioconductor_package_curation_with_OpenAI.ipynb\" target=\"_parent\"><img src=\"https://colab.research.google.com/assets/colab-badge.svg\" alt=\"Open In Colab\"/></a>"
   ]
  },
  {
   "cell_type": "code",
   "execution_count": 1,
   "metadata": {
    "colab": {
     "base_uri": "https://localhost:8080/"
    },
    "id": "92IKrFuFgIQV",
    "outputId": "1124d49a-52c8-48fa-9b80-d2db193c3a43"
   },
   "outputs": [
    {
     "name": "stdout",
     "output_type": "stream",
     "text": [
      "Requirement already satisfied: openai in ./miniconda3/lib/python3.10/site-packages (1.52.2)\n",
      "Requirement already satisfied: anyio<5,>=3.5.0 in ./.local/lib/python3.10/site-packages (from openai) (3.6.2)\n",
      "Requirement already satisfied: distro<2,>=1.7.0 in ./miniconda3/lib/python3.10/site-packages (from openai) (1.9.0)\n",
      "Requirement already satisfied: httpx<1,>=0.23.0 in ./miniconda3/lib/python3.10/site-packages (from openai) (0.27.0)\n",
      "Requirement already satisfied: jiter<1,>=0.4.0 in ./miniconda3/lib/python3.10/site-packages (from openai) (0.6.1)\n",
      "Requirement already satisfied: pydantic<3,>=1.9.0 in ./miniconda3/lib/python3.10/site-packages (from openai) (1.10.15)\n",
      "Requirement already satisfied: sniffio in ./.local/lib/python3.10/site-packages (from openai) (1.3.0)\n",
      "Requirement already satisfied: tqdm>4 in ./miniconda3/lib/python3.10/site-packages (from openai) (4.66.2)\n",
      "Requirement already satisfied: typing-extensions<5,>=4.11 in ./miniconda3/lib/python3.10/site-packages (from openai) (4.12.2)\n",
      "Requirement already satisfied: idna>=2.8 in ./miniconda3/lib/python3.10/site-packages (from anyio<5,>=3.5.0->openai) (3.10)\n",
      "Requirement already satisfied: certifi in ./miniconda3/lib/python3.10/site-packages (from httpx<1,>=0.23.0->openai) (2024.8.30)\n",
      "Requirement already satisfied: httpcore==1.* in ./miniconda3/lib/python3.10/site-packages (from httpx<1,>=0.23.0->openai) (1.0.5)\n",
      "Requirement already satisfied: h11<0.15,>=0.13 in ./miniconda3/lib/python3.10/site-packages (from httpcore==1.*->httpx<1,>=0.23.0->openai) (0.14.0)\n",
      "Requirement already satisfied: jsonschema in ./miniconda3/lib/python3.10/site-packages (4.18.5)\n",
      "Requirement already satisfied: attrs>=22.2.0 in ./.local/lib/python3.10/site-packages (from jsonschema) (22.2.0)\n",
      "Requirement already satisfied: jsonschema-specifications>=2023.03.6 in ./miniconda3/lib/python3.10/site-packages (from jsonschema) (2023.7.1)\n",
      "Requirement already satisfied: referencing>=0.28.4 in ./miniconda3/lib/python3.10/site-packages (from jsonschema) (0.30.0)\n",
      "Requirement already satisfied: rpds-py>=0.7.1 in ./miniconda3/lib/python3.10/site-packages (from jsonschema) (0.9.2)\n"
     ]
    }
   ],
   "source": [
    "!pip install openai\n",
    "!pip install jsonschema"
   ]
  },
  {
   "cell_type": "code",
   "execution_count": 3,
   "metadata": {
    "id": "9wj-aOMXhYH1"
   },
   "outputs": [],
   "source": [
    "from openai import OpenAI\n",
    "import os\n",
    "\n",
    "\"\"\"\n",
    "Checks if the code is running in Google Colab or a local environment\n",
    "to determine how to retrieve the OpenAI API key.\n",
    "get_ipython() returns the current interactive shell instance\n",
    "when running in a Jupyter/IPython environment.\n",
    "\"\"\"\n",
    "if 'google.colab' in str(get_ipython()):\n",
    "    from google.colab import userdata\n",
    "    OPENAI_API_KEY = userdata.get('OPENAI_API_KEY')\n",
    "else:\n",
    "    OPENAI_API_KEY = os.getenv('OPENAI_API_KEY')\n",
    "MODEL=\"gpt-4o\"\n",
    "client = OpenAI(api_key=OPENAI_API_KEY)"
   ]
  },
  {
   "cell_type": "code",
   "execution_count": 4,
   "metadata": {
    "id": "1aYb2zn7wY5K"
   },
   "outputs": [],
   "source": [
    "import requests\n",
    "\n",
    "def get_text_from_url(url):\n",
    "  try:\n",
    "    response = requests.get(url)\n",
    "    response.raise_for_status()\n",
    "    return response.text\n",
    "  except requests.exceptions.RequestException as e:\n",
    "    print(f\"Error fetching URL: {e}\")\n",
    "    return None\n",
    "\n",
    "# Retrieve text from example sources for the package chromVAR\n",
    "# Sources to curate from can be Bioconductor homepage, READMEs, vignettes, paper (if acccessible), function docs, ...\n",
    "\n",
    "# Change urls to use selected material for different packages\n",
    "source_for_base = \"https://bioconductor.org/packages/release/bioc/html/chromVAR.html\"\n",
    "base_content = get_text_from_url(source_for_base)\n",
    "\n",
    "source_for_edam = \"https://raw.githubusercontent.com/GreenleafLab/chromVAR/refs/heads/master/README.md\"\n",
    "edam_content = get_text_from_url(source_for_edam)\n"
   ]
  },
  {
   "cell_type": "code",
   "execution_count": 5,
   "metadata": {
    "id": "NKaKkOINxZiv"
   },
   "outputs": [],
   "source": [
    "from jsonschema import validate, ValidationError\n",
    "import json\n",
    "\n",
    "# Retrieve schemas\n",
    "\n",
    "# Base\n",
    "base_schema = get_text_from_url(\"https://raw.githubusercontent.com/anngvu/bioc-curation/refs/heads/main/base.json\")\n",
    "\n",
    "# EDAM\n",
    "edam_schema = get_text_from_url(\"https://raw.githubusercontent.com/anngvu/bioc-curation/refs/heads/main/edammap.json\")"
   ]
  },
  {
   "cell_type": "code",
   "execution_count": 6,
   "metadata": {
    "id": "N3ukVcazv0v8"
   },
   "outputs": [],
   "source": [
    "# Base schema completion\n",
    "\n",
    "def schema_completion(content, schema):\n",
    "  completion=client.chat.completions.create(\n",
    "    model=MODEL,\n",
    "    messages=[\n",
    "      {\"role\": \"system\", \"content\": \"You are a helpful expert in data curation and data modeling, especially with structured JSON data.\" + \n",
    "       \"You return only valid JSON string, not in a code block, and without any other explanation so that the string and decoded and inserted into a database.\"},\n",
    "      {\"role\": \"user\", \"content\": \"Given content about a bioformatics tool, represent it as a JSON object compliant with the provided schema:\" +\n",
    "       \"\\nCONTENT:\\n\\n\" + content + '\\nSCHEMA:\\n\\n' + schema}]\n",
    "  )\n",
    "  return(completion)\n",
    "\n",
    "base_completion = schema_completion(base_content, base_schema)\n"
   ]
  },
  {
   "cell_type": "code",
   "execution_count": 8,
   "metadata": {
    "colab": {
     "base_uri": "https://localhost:8080/",
     "height": 894
    },
    "id": "zHd7wKF4jXzU",
    "outputId": "fa13cfed-4605-48cf-c356-176373dcbb0c"
   },
   "outputs": [
    {
     "name": "stdout",
     "output_type": "stream",
     "text": [
      "Success after 0 attempts\n"
     ]
    }
   ],
   "source": [
    "# Validate and send any error to be corrected (default: max of 3 times), based on validation error\n",
    "\n",
    "def fix_completion(content, error):\n",
    "  completion=client.chat.completions.create(\n",
    "    model=MODEL,\n",
    "    messages=[\n",
    "      {\"role\": \"system\", \"content\": \"You are debugging an API. Review the given JSON object and schema error and return the corrected JSON object only.\"},\n",
    "      {\"role\": \"user\", \"content\": \"JSON:\\n\\n\" + content + \"\\nERROR:\\n\\n\" + error }]\n",
    "  )\n",
    "  return(completion)\n",
    "\n",
    "def validate_json_with_retries(json_string, schema, max_retries=3, attempts=0):\n",
    "    validation = json.loads(schema)\n",
    "    \n",
    "    if attempts > max_retries:\n",
    "        raise Exception(f\"Failed to validate JSON after {max_retries} attempts\")\n",
    "    try:\n",
    "        parsed_json = json.loads(json_string)\n",
    "        validate(instance=parsed_json, schema=validation)\n",
    "        \n",
    "        # Both JSON parsing and validation succeeded\n",
    "        print(\"Success after\", attempts, \"attempts\")\n",
    "        return parsed_json\n",
    "        \n",
    "    except (json.JSONDecodeError, ValidationError) as e:\n",
    "        attempts += 1\n",
    "        print(\"JSON not valid, trying QC/correction prompt, attempt\", attempts)\n",
    "        if attempts == max_retries:\n",
    "            raise\n",
    "        response = fix_completion(json_string, str(e))\n",
    "        json_string = response.choices[0].message.content\n",
    "        validate_json_with_retries(json_string, schema, max_retries, attempts)\n",
    "    \n",
    "\n",
    "base_json = base_completion.choices[0].message.content\n",
    "base_final = validate_json_with_retries(base_json, base_schema)"
   ]
  },
  {
   "cell_type": "code",
   "execution_count": 10,
   "metadata": {
    "colab": {
     "base_uri": "https://localhost:8080/"
    },
    "id": "Cyev7EUwwXQ2",
    "outputId": "8e9a0cad-b688-4f3f-d8fa-395cb7d14298"
   },
   "outputs": [
    {
     "name": "stdout",
     "output_type": "stream",
     "text": [
      "Success after 0 attempts\n"
     ]
    }
   ],
   "source": [
    "# EDAM schema completion\n",
    "\n",
    "edam_completion = schema_completion(edam_content, edam_schema)\n",
    "edam_json = edam_completion.choices[0].message.content\n",
    "edam_final = validate_json_with_retries(edam_json, edam_schema)"
   ]
  },
  {
   "cell_type": "code",
   "execution_count": 29,
   "metadata": {},
   "outputs": [
    {
     "name": "stdout",
     "output_type": "stream",
     "text": [
      "-- Costs in USD --  \n",
      "Base inference: 0.0399325 \n",
      "Edam inference: 0.043965000000000004\n"
     ]
    }
   ],
   "source": [
    "# https://openai.com/api/pricing/\n",
    "# Note: minimum cost, ignores cached tokens and completions for QC re-prompts\n",
    "def openai_completion_cost(usage):\n",
    "    input_pricing_per_token = 0.0000025\n",
    "    output_pricing_per_token = 0.00001\n",
    "    total = (usage.prompt_tokens * input_pricing_per_token) + (usage.completion_tokens * output_pricing_per_token)\n",
    "    return(total)\n",
    "\n",
    "print(\"-- Costs in USD -- \", \"\\nBase inference:\", openai_completion_cost(base_completion.usage), \"\\nEdam inference:\", openai_completion_cost(edam_completion.usage))\n"
   ]
  },
  {
   "cell_type": "code",
   "execution_count": 11,
   "metadata": {},
   "outputs": [
    {
     "name": "stdout",
     "output_type": "stream",
     "text": [
      "{'name': 'chromVAR', 'description': 'Determine variation in chromatin accessibility across sets of annotations or peaks. Designed primarily for single-cell or sparse chromatin accessibility data, e.g. from scATAC-seq or sparse bulk ATAC or DNAse-seq experiments.', 'homepage': 'http://bioconductor.org/packages/chromVAR/', 'version': ['1.26.0'], 'otherID': [{'type': 'doi', 'value': '10.18129/B9.bioc.chromVAR', 'version': '1.26.0'}], 'toolType': ['Library'], 'operatingSystem': ['Linux', 'Windows', 'Mac'], 'language': ['R'], 'license': 'MIT', 'collectionID': [], 'maturity': 'Mature', 'cost': 'Free of charge', 'accessibility': 'Open access', 'link': [{'url': 'https://support.bioconductor.org/tag/chromvar', 'type': ['Discussion forum'], 'note': 'Bioconductor Support site for chromVAR.'}, {'url': 'https://bioconductor.org/checkResults/release/bioc-LATEST/chromVAR/', 'type': ['Technical monitoring'], 'note': 'Build report page for chromVAR.'}], 'download': [{'url': 'http://bioconductor.org/packages/stats/bioc/chromVAR/', 'type': 'Downloads page', 'note': 'Download stats and package availability page for chromVAR.'}], 'documentation': [{'url': 'http://bioconductor.org/packages/release/bioc/manuals/chromVAR/man/chromVAR.pdf', 'type': ['User manual'], 'note': 'Reference manual for chromVAR.'}, {'url': 'http://bioconductor.org/packages/release/bioc/vignettes/chromVAR/inst/doc/Introduction.html', 'type': ['Quick start guide'], 'note': 'Introduction vignette for chromVAR.'}, {'url': 'http://bioconductor.org/packages/release/bioc/news/chromVAR/NEWS', 'type': ['Release notes'], 'note': 'NEWS file for chromVAR.'}], 'publication': [], 'credit': [{'name': 'Alicia Schep', 'email': 'aschep at gmail.com', 'typeEntity': 'Person', 'typeRole': ['Developer', 'Maintainer', 'Primary contact']}, {'name': 'Jason Buenrostro', 'typeEntity': 'Person', 'typeRole': ['Contributor']}, {'name': 'Caleb Lareau', 'typeEntity': 'Person', 'typeRole': ['Contributor']}, {'name': 'William Greenleaf', 'typeEntity': 'Person', 'typeRole': ['Contributor'], 'note': 'Stanford University'}]}\n",
      "{'topic': [{'term': 'Bioinformatics'}, {'term': 'Epigenomics'}, {'term': 'Gene regulation'}, {'term': 'Transcription factors and regulatory sites'}, {'term': 'Genomics'}, {'term': 'Functional genomics'}], 'function': [{'operation': [{'term': 'Sequence motif analysis'}, {'term': 'Expression analysis'}, {'term': 'Peak detection'}, {'term': 'Principal component analysis'}, {'term': 'Multiple structure alignment'}], 'input': [{'data': {'term': 'Nucleic acid sequence record'}, 'format': [{'term': 'BED'}, {'term': 'FASTQ'}, {'term': 'BAM'}]}], 'output': [{'data': {'term': 'Gene expression profile'}, 'format': [{'term': 'JSON'}, {'term': 'CSV'}]}]}]}\n"
     ]
    }
   ],
   "source": [
    "# View final results\n",
    "print(base_final)\n",
    "print(edam_final)"
   ]
  },
  {
   "cell_type": "code",
   "execution_count": null,
   "metadata": {
    "id": "9a8M_PDifQJP"
   },
   "outputs": [],
   "source": [
    "# For EDAM, get class ids\n"
   ]
  }
 ],
 "metadata": {
  "colab": {
   "authorship_tag": "ABX9TyO0uBdrVELcEJQIERrOmG2p",
   "include_colab_link": true,
   "provenance": []
  },
  "kernelspec": {
   "display_name": "Python 3 (ipykernel)",
   "language": "python",
   "name": "python3"
  },
  "language_info": {
   "codemirror_mode": {
    "name": "ipython",
    "version": 3
   },
   "file_extension": ".py",
   "mimetype": "text/x-python",
   "name": "python",
   "nbconvert_exporter": "python",
   "pygments_lexer": "ipython3",
   "version": "3.10.12"
  }
 },
 "nbformat": 4,
 "nbformat_minor": 1
}
